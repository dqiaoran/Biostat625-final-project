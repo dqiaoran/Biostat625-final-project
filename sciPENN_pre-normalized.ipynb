{
 "cells": [
  {
   "cell_type": "code",
   "execution_count": 1,
   "id": "749775c1",
   "metadata": {},
   "outputs": [],
   "source": [
    "%load_ext autoreload\n",
    "%autoreload 2\n",
    "\n",
    "import numpy as np\n",
    "from matplotlib import pyplot\n",
    "import os\n",
    "from copy import deepcopy\n",
    "\n",
    "from time import time\n",
    "\n",
    "from math import ceil\n",
    "from scipy.stats import spearmanr, gamma, poisson\n",
    "\n",
    "from anndata import AnnData, read_h5ad\n",
    "import scanpy as sc\n",
    "from scanpy import read\n",
    "import pandas as pd\n",
    "\n",
    "from torch.utils.data import DataLoader, TensorDataset\n",
    "from torch import tensor\n",
    "from torch.cuda import is_available\n",
    "\n",
    "from sciPENN.sciPENN_API import sciPENN_API"
   ]
  },
  {
   "cell_type": "code",
   "execution_count": null,
   "id": "4da275f5",
   "metadata": {},
   "outputs": [],
   "source": []
  },
  {
   "cell_type": "code",
   "execution_count": null,
   "id": "6c63f4ba",
   "metadata": {},
   "outputs": [],
   "source": []
  },
  {
   "cell_type": "code",
   "execution_count": 3,
   "id": "111627bd",
   "metadata": {},
   "outputs": [
    {
     "data": {
      "text/plain": [
       "<35496x1000 sparse matrix of type '<class 'numpy.float32'>'\n",
       "\twith 11070575 stored elements in Compressed Sparse Column format>"
      ]
     },
     "execution_count": 3,
     "metadata": {},
     "output_type": "execute_result"
    }
   ],
   "source": [
    "adata_gene_train.X"
   ]
  },
  {
   "cell_type": "code",
   "execution_count": 2,
   "id": "6abc3b94",
   "metadata": {},
   "outputs": [],
   "source": [
    "# read in data\n",
    "adata_gene_train = sc.read(\"/home/asmauger/biostat625final/rna_train_hvg.h5ad\")\n",
    "adata_gene_test = sc.read(\"/home/asmauger/biostat625final/rna_test_hvg.h5ad\")\n",
    "adata_protein_train = sc.read(\"/home/asmauger/biostat625final/prot_train.h5ad\")\n",
    "adata_protein_test = sc.read(\"/home/asmauger/biostat625final/prot_test.h5ad\")\n",
    "ref = sc.read(\"/home/asmauger/biostat625final/pbmc_gene.h5ad\")"
   ]
  },
  {
   "cell_type": "code",
   "execution_count": 3,
   "id": "4def9d2a",
   "metadata": {},
   "outputs": [
    {
     "name": "stdout",
     "output_type": "stream",
     "text": [
      "Using CPU\n",
      "\n",
      "Normalizing Gene Training Data by Batch\n"
     ]
    },
    {
     "name": "stderr",
     "output_type": "stream",
     "text": [
      "100%|██████████| 9/9 [00:01<00:00,  6.12it/s]\n"
     ]
    },
    {
     "name": "stdout",
     "output_type": "stream",
     "text": [
      "\n",
      "Normalizing Protein Training Data by Batch\n"
     ]
    },
    {
     "name": "stderr",
     "output_type": "stream",
     "text": [
      "100%|██████████| 9/9 [00:00<00:00, 18.31it/s]\n"
     ]
    },
    {
     "name": "stdout",
     "output_type": "stream",
     "text": [
      "\n",
      "Normalizing Gene Testing Data by Batch\n"
     ]
    },
    {
     "name": "stderr",
     "output_type": "stream",
     "text": [
      "100%|██████████| 9/9 [00:01<00:00,  5.17it/s]\n"
     ]
    }
   ],
   "source": [
    "# note that donor, day are stored as integers and might not work as expected with scipenn\n",
    "# use 'daydonor' instead\n",
    "# these data are already cell normalized and log normalized\n",
    "sciPENN = sciPENN_API(gene_trainsets = [adata_gene_train], protein_trainsets = [adata_protein_train], \n",
    "                      gene_test = adata_gene_test, train_batchkeys = ['daydonor'], test_batchkey = 'daydonor',  use_gpu=False,\n",
    "                     select_hvg=False, cell_normalize=False, log_normalize=False, min_cells=0, min_genes=0)"
   ]
  },
  {
   "cell_type": "code",
   "execution_count": 4,
   "id": "00ab74e5",
   "metadata": {},
   "outputs": [
    {
     "name": "stdout",
     "output_type": "stream",
     "text": [
      "Epoch 0 prediction loss = 1.408\n",
      "Epoch 1 prediction loss = 0.948\n",
      "Epoch 2 prediction loss = 0.943\n",
      "Epoch 3 prediction loss = 0.937\n",
      "Epoch 4 prediction loss = 0.938\n",
      "Epoch 5 prediction loss = 0.931\n",
      "Epoch 6 prediction loss = 0.932\n",
      "Epoch 7 prediction loss = 0.931\n",
      "Epoch 8 prediction loss = 0.927\n",
      "Epoch 9 prediction loss = 0.928\n",
      "Epoch 10 prediction loss = 0.933\n",
      "Epoch 11 prediction loss = 0.929\n",
      "Epoch 12 prediction loss = 0.930\n",
      "Epoch 13 prediction loss = 0.927\n",
      "Decaying loss to 0.0001\n",
      "Epoch 14 prediction loss = 0.920\n",
      "Epoch 15 prediction loss = 0.923\n",
      "Epoch 16 prediction loss = 0.920\n",
      "Epoch 17 prediction loss = 0.921\n",
      "Epoch 18 prediction loss = 0.921\n",
      "Epoch 19 prediction loss = 0.922\n",
      "Decaying loss to 1e-05\n",
      "Epoch 20 prediction loss = 0.922\n",
      "Epoch 21 prediction loss = 0.920\n",
      "Epoch 22 prediction loss = 0.920\n",
      "Epoch 23 prediction loss = 0.919\n",
      "Epoch 24 prediction loss = 0.919\n",
      "Epoch 25 prediction loss = 0.921\n",
      "Decaying loss to 1.0000000000000002e-06\n",
      "Epoch 26 prediction loss = 0.920\n"
     ]
    }
   ],
   "source": [
    "# make sure load=False, unless you want to re-use weights from a previous run\n",
    "sciPENN.train(quantiles = [0.1, 0.25, 0.75, 0.9], n_epochs = 10000, ES_max = 12, decay_max = 6, \n",
    "             decay_step = 0.1, lr = 10**(-3), load = False)"
   ]
  },
  {
   "cell_type": "code",
   "execution_count": 5,
   "id": "36b62593",
   "metadata": {},
   "outputs": [],
   "source": [
    "imputed_test = sciPENN.predict()\n"
   ]
  },
  {
   "cell_type": "code",
   "execution_count": 6,
   "id": "e589ec86",
   "metadata": {},
   "outputs": [],
   "source": [
    "embedding = sciPENN.embed()"
   ]
  },
  {
   "cell_type": "code",
   "execution_count": 11,
   "id": "52148734",
   "metadata": {},
   "outputs": [
    {
     "ename": "AttributeError",
     "evalue": "'sciPENN_API' object has no attribute 'X'",
     "output_type": "error",
     "traceback": [
      "\u001b[0;31m---------------------------------------------------------------------------\u001b[0m",
      "\u001b[0;31mAttributeError\u001b[0m                            Traceback (most recent call last)",
      "\u001b[0;32m/tmp/ipykernel_18795/3928677758.py\u001b[0m in \u001b[0;36m<module>\u001b[0;34m\u001b[0m\n\u001b[1;32m      1\u001b[0m \u001b[0membedding\u001b[0m\u001b[0;34m.\u001b[0m\u001b[0mX\u001b[0m\u001b[0;34m\u001b[0m\u001b[0m\n\u001b[0;32m----> 2\u001b[0;31m \u001b[0msciPENN\u001b[0m\u001b[0;34m.\u001b[0m\u001b[0mX\u001b[0m\u001b[0;34m\u001b[0m\u001b[0m\n\u001b[0m",
      "\u001b[0;31mAttributeError\u001b[0m: 'sciPENN_API' object has no attribute 'X'"
     ]
    }
   ],
   "source": [
    "embedding.X"
   ]
  },
  {
   "cell_type": "code",
   "execution_count": 28,
   "id": "1d645323",
   "metadata": {},
   "outputs": [
    {
     "name": "stdout",
     "output_type": "stream",
     "text": [
      "35492\n",
      "134\n"
     ]
    }
   ],
   "source": [
    "print(sum(adata_protein_test.obs.index == imputed_test.obs.index))\n",
    "print(sum(imputed_test.var.index == adata_protein_test.var.index))"
   ]
  },
  {
   "cell_type": "code",
   "execution_count": 29,
   "id": "f6ddaf23",
   "metadata": {},
   "outputs": [
    {
     "name": "stderr",
     "output_type": "stream",
     "text": [
      "/home/asmauger/.conda/envs/scipenn_env/lib/python3.7/site-packages/scanpy/preprocessing/_simple.py:843: UserWarning: Revieved a view of an AnnData. Making a copy.\n",
      "  view_to_actual(adata)\n"
     ]
    }
   ],
   "source": [
    "adata_protein_test.X = adata_protein_test.X.toarray() \n",
    "\n",
    "adata_protein_test.layers['imputed'] = imputed_test.X\n",
    "adata_protein_test.layers.update(imputed_test.layers)\n",
    "\n",
    "# scaling by batch\n",
    "batches = np.unique(adata_protein_test.obs['daydonor'].values)\n",
    "\n",
    "for i in batches:\n",
    "    indices = [x == i for x in adata_protein_test.obs['daydonor']]\n",
    "    sub_adata = adata_protein_test[indices]\n",
    "\n",
    "    sc.pp.scale(sub_adata)\n",
    "    adata_protein_test[indices] = sub_adata.X\n"
   ]
  },
  {
   "cell_type": "code",
   "execution_count": 30,
   "id": "831fb6d0",
   "metadata": {},
   "outputs": [],
   "source": [
    "MSEs= ((adata_protein_test.X - adata_protein_test.layers[\"imputed\"])**2).mean(axis = 0)**(1/2)"
   ]
  },
  {
   "cell_type": "code",
   "execution_count": 31,
   "id": "1116bd94",
   "metadata": {},
   "outputs": [
    {
     "name": "stdout",
     "output_type": "stream",
     "text": [
      "[0.94374955 0.9375769  0.82664925 0.6797544  0.49247658 0.57803774\n",
      " 0.5454278  0.94394684 0.77229065 0.8223677  0.96609485 1.0005746\n",
      " 0.92133415 0.98532623 0.75585854 0.9315182  0.5709761  0.528932\n",
      " 0.6900277  0.9970452  0.701812   0.735463   0.9938699  0.9363315\n",
      " 0.5313256  0.97555137 0.9906128  0.9602575  0.79632884 0.75971913\n",
      " 0.88762254 0.89638966 0.96977484 0.52683294 0.94587386 0.9842925\n",
      " 0.90976167 0.99282086 0.94975656 0.65677994 0.94174635 0.87124735\n",
      " 0.99618775 0.9277489  0.4401561  0.92621505 0.8287864  0.891454\n",
      " 0.9467992  0.9930261  0.94243157 0.59652823 0.94325566 0.6196285\n",
      " 0.9884349  0.9888636  0.9362089  0.6987578  0.87448055 0.8599059\n",
      " 0.93878615 0.9894791  0.9974234  0.94126743 0.84901834 0.9408808\n",
      " 0.672948   0.68342376 0.9967339  0.5417501  0.82834446 0.5358829\n",
      " 0.98286194 0.92199916 0.990635   0.9642353  0.7346427  0.95062196\n",
      " 0.8093105  0.96905243 0.85875595 0.93851256 0.90955013 0.5742118\n",
      " 0.9252047  0.7999241  0.6919029  0.88620704 0.58177745 0.99424887\n",
      " 0.9884241  0.6010866  0.8917924  0.5141293  0.5499938  0.994223\n",
      " 0.82236093 0.97809154 0.6914851  0.985066   0.6002706  0.93781054\n",
      " 0.5175343  0.9242143  0.9468669  0.7173172  0.9150456  0.5802978\n",
      " 0.98480606 0.8502975  0.9056421  0.9591783  0.96090883 0.7166652\n",
      " 0.97271425 0.73233974 0.9882354  0.9973161  0.9615837  0.9748967\n",
      " 0.9792824  0.8750152  0.92567605 0.911036   0.8117773  0.70680225\n",
      " 0.9926283  0.67918634 0.9352603  0.8726248  0.7326515  0.86011946\n",
      " 0.70481527 0.87565386]\n"
     ]
    }
   ],
   "source": [
    "print(MSEs)"
   ]
  }
 ],
 "metadata": {
  "kernelspec": {
   "display_name": "sciPENN_env",
   "language": "python",
   "name": "scipenn_env"
  },
  "language_info": {
   "codemirror_mode": {
    "name": "ipython",
    "version": 3
   },
   "file_extension": ".py",
   "mimetype": "text/x-python",
   "name": "python",
   "nbconvert_exporter": "python",
   "pygments_lexer": "ipython3",
   "version": "3.7.0"
  }
 },
 "nbformat": 4,
 "nbformat_minor": 5
}
