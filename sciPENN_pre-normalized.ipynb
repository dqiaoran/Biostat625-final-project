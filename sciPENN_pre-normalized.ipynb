{
 "cells": [
  {
   "cell_type": "code",
   "execution_count": 1,
   "id": "749775c1",
   "metadata": {},
   "outputs": [],
   "source": [
    "%load_ext autoreload\n",
    "%autoreload 2\n",
    "\n",
    "import numpy as np\n",
    "from matplotlib import pyplot\n",
    "import os\n",
    "from copy import deepcopy\n",
    "\n",
    "from time import time\n",
    "\n",
    "from math import ceil\n",
    "from scipy.stats import spearmanr, gamma, poisson\n",
    "\n",
    "from anndata import AnnData, read_h5ad\n",
    "import scanpy as sc\n",
    "from scanpy import read\n",
    "import pandas as pd\n",
    "\n",
    "from torch.utils.data import DataLoader, TensorDataset\n",
    "from torch import tensor\n",
    "from torch.cuda import is_available\n",
    "\n",
    "from sciPENN.sciPENN_API import sciPENN_API"
   ]
  },
  {
   "cell_type": "code",
   "execution_count": 2,
   "id": "6abc3b94",
   "metadata": {},
   "outputs": [],
   "source": [
    "# read in data\n",
    "adata_gene_train = sc.read(\"/home/asmauger/biostat625final/rna_train_hvg.h5ad\")\n",
    "adata_gene_test = sc.read(\"/home/asmauger/biostat625final/rna_test_hvg.h5ad\")\n",
    "adata_protein_train = sc.read(\"/home/asmauger/biostat625final/prot_train.h5ad\")\n",
    "adata_protein_test = sc.read(\"/home/asmauger/biostat625final/prot_test.h5ad\")\n",
    "ref = sc.read(\"/home/asmauger/biostat625final/pbmc_gene.h5ad\")"
   ]
  },
  {
   "cell_type": "code",
   "execution_count": 4,
   "id": "4def9d2a",
   "metadata": {},
   "outputs": [
    {
     "name": "stdout",
     "output_type": "stream",
     "text": [
      "Using CPU\n",
      "\n",
      "Normalizing Gene Training Data by Batch\n"
     ]
    },
    {
     "name": "stderr",
     "output_type": "stream",
     "text": [
      "100%|██████████| 9/9 [00:01<00:00,  6.69it/s]\n"
     ]
    },
    {
     "name": "stdout",
     "output_type": "stream",
     "text": [
      "\n",
      "Normalizing Protein Training Data by Batch\n"
     ]
    },
    {
     "name": "stderr",
     "output_type": "stream",
     "text": [
      "100%|██████████| 9/9 [00:00<00:00, 19.97it/s]\n"
     ]
    },
    {
     "name": "stdout",
     "output_type": "stream",
     "text": [
      "\n",
      "Normalizing Gene Testing Data by Batch\n"
     ]
    },
    {
     "name": "stderr",
     "output_type": "stream",
     "text": [
      "100%|██████████| 9/9 [00:01<00:00,  6.90it/s]\n"
     ]
    }
   ],
   "source": [
    "# note that donor, day are stored as integers and might not work as expected with scipenn\n",
    "# use 'daydonor' instead\n",
    "# these data are already cell normalized and log normalized\n",
    "sciPENN = sciPENN_API(gene_trainsets = [adata_gene_train], protein_trainsets = [adata_protein_train], \n",
    "                      gene_test = adata_gene_test, train_batchkeys = ['daydonor'], test_batchkey = 'daydonor',  use_gpu=False,\n",
    "                     select_hvg=False, cell_normalize=False, log_normalize=False, min_cells=0, min_genes=0)"
   ]
  },
  {
   "cell_type": "code",
   "execution_count": 5,
   "id": "00ab74e5",
   "metadata": {},
   "outputs": [
    {
     "name": "stdout",
     "output_type": "stream",
     "text": [
      "Epoch 0 prediction loss = 1.412\n",
      "Epoch 1 prediction loss = 0.957\n",
      "Epoch 2 prediction loss = 0.951\n",
      "Epoch 3 prediction loss = 0.951\n",
      "Epoch 4 prediction loss = 0.949\n",
      "Epoch 5 prediction loss = 0.944\n",
      "Epoch 6 prediction loss = 0.941\n",
      "Epoch 7 prediction loss = 0.941\n",
      "Epoch 8 prediction loss = 0.940\n",
      "Epoch 9 prediction loss = 0.939\n",
      "Epoch 10 prediction loss = 0.937\n",
      "Epoch 11 prediction loss = 0.938\n",
      "Epoch 12 prediction loss = 0.942\n",
      "Epoch 13 prediction loss = 0.943\n",
      "Epoch 14 prediction loss = 0.938\n",
      "Decaying loss to 0.0001\n",
      "Epoch 15 prediction loss = 0.931\n",
      "Epoch 16 prediction loss = 0.932\n",
      "Epoch 17 prediction loss = 0.932\n",
      "Epoch 18 prediction loss = 0.930\n",
      "Epoch 19 prediction loss = 0.933\n",
      "Epoch 20 prediction loss = 0.931\n",
      "Decaying loss to 1e-05\n",
      "Epoch 21 prediction loss = 0.931\n",
      "Epoch 22 prediction loss = 0.931\n",
      "Epoch 23 prediction loss = 0.932\n",
      "Epoch 24 prediction loss = 0.932\n",
      "Epoch 25 prediction loss = 0.931\n",
      "Epoch 26 prediction loss = 0.931\n",
      "Decaying loss to 1.0000000000000002e-06\n",
      "Epoch 27 prediction loss = 0.931\n"
     ]
    }
   ],
   "source": [
    "# make sure load=False, unless you want to re-use weights from a previous run\n",
    "sciPENN.train(quantiles = [0.1, 0.25, 0.75, 0.9], n_epochs = 10000, ES_max = 12, decay_max = 6, \n",
    "             decay_step = 0.1, lr = 10**(-3), load = False)"
   ]
  },
  {
   "cell_type": "code",
   "execution_count": 6,
   "id": "36b62593",
   "metadata": {},
   "outputs": [],
   "source": [
    "imputed_test = sciPENN.predict()\n"
   ]
  },
  {
   "cell_type": "code",
   "execution_count": 7,
   "id": "e589ec86",
   "metadata": {},
   "outputs": [],
   "source": [
    "embedding = sciPENN.embed()"
   ]
  },
  {
   "cell_type": "code",
   "execution_count": 8,
   "id": "52148734",
   "metadata": {},
   "outputs": [
    {
     "data": {
      "text/plain": [
       "array([[-0.07114612,  0.0996935 , -0.03793817, ...,  0.05308064,\n",
       "         0.94526166, -0.11312702],\n",
       "       [ 0.00309207, -0.45671356, -0.05833251, ...,  0.00453422,\n",
       "         0.90640396,  0.31426886],\n",
       "       [-0.04795591,  0.7697607 , -0.16859245, ...,  0.73876125,\n",
       "        -0.99645233, -0.23429202],\n",
       "       ...,\n",
       "       [-0.0114318 ,  0.0395246 ,  0.04094888, ..., -0.06080035,\n",
       "         0.9599461 , -0.06384736],\n",
       "       [-0.05257633,  0.17112096,  0.2422376 , ..., -0.16921712,\n",
       "        -0.9731447 , -0.03036799],\n",
       "       [-0.05187283,  0.39211836,  0.07226393, ...,  0.55728424,\n",
       "        -0.18512411,  0.29159755]], dtype=float32)"
      ]
     },
     "execution_count": 8,
     "metadata": {},
     "output_type": "execute_result"
    }
   ],
   "source": [
    "embedding.X"
   ]
  },
  {
   "cell_type": "code",
   "execution_count": 9,
   "id": "1d645323",
   "metadata": {},
   "outputs": [
    {
     "name": "stdout",
     "output_type": "stream",
     "text": [
      "35492\n",
      "134\n"
     ]
    }
   ],
   "source": [
    "print(sum(adata_protein_test.obs.index == imputed_test.obs.index))\n",
    "print(sum(imputed_test.var.index == adata_protein_test.var.index))"
   ]
  },
  {
   "cell_type": "code",
   "execution_count": 10,
   "id": "f6ddaf23",
   "metadata": {},
   "outputs": [
    {
     "name": "stderr",
     "output_type": "stream",
     "text": [
      "/home/asmauger/.conda/envs/scipenn_env/lib/python3.7/site-packages/scanpy/preprocessing/_simple.py:843: UserWarning: Revieved a view of an AnnData. Making a copy.\n",
      "  view_to_actual(adata)\n"
     ]
    }
   ],
   "source": [
    "adata_protein_test.X = adata_protein_test.X.toarray() \n",
    "\n",
    "adata_protein_test.layers['imputed'] = imputed_test.X\n",
    "adata_protein_test.layers.update(imputed_test.layers)\n",
    "\n",
    "# scaling by batch\n",
    "batches = np.unique(adata_protein_test.obs['daydonor'].values)\n",
    "\n",
    "for i in batches:\n",
    "    indices = [x == i for x in adata_protein_test.obs['daydonor']]\n",
    "    sub_adata = adata_protein_test[indices]\n",
    "\n",
    "    sc.pp.scale(sub_adata)\n",
    "    adata_protein_test[indices] = sub_adata.X\n"
   ]
  },
  {
   "cell_type": "code",
   "execution_count": 11,
   "id": "831fb6d0",
   "metadata": {},
   "outputs": [],
   "source": [
    "MSEs= ((adata_protein_test.X - adata_protein_test.layers[\"imputed\"])**2).mean(axis = 0)**(1/2)"
   ]
  },
  {
   "cell_type": "code",
   "execution_count": 12,
   "id": "1116bd94",
   "metadata": {},
   "outputs": [
    {
     "name": "stdout",
     "output_type": "stream",
     "text": [
      "[0.9434334  0.93891424 0.8272301  0.6837612  0.49599466 0.57999104\n",
      " 0.54665387 0.9445831  0.774013   0.8237878  0.96721596 1.0007776\n",
      " 0.9229987  0.98553693 0.75786525 0.9315148  0.5729405  0.52814025\n",
      " 0.69198567 0.9973349  0.70513374 0.7361803  0.9941762  0.93652934\n",
      " 0.53719866 0.9760478  0.9912728  0.9606974  0.79983413 0.76370925\n",
      " 0.8897634  0.8981121  0.97100025 0.52838653 0.9471252  0.98424655\n",
      " 0.91028076 0.993705   0.9498395  0.6646052  0.94207007 0.8739161\n",
      " 0.9962819  0.9293417  0.4409494  0.92751443 0.83089346 0.89240074\n",
      " 0.9484363  0.9934209  0.94460136 0.5996777  0.9447781  0.62315583\n",
      " 0.9879651  0.9889469  0.9374008  0.7034933  0.87581915 0.860426\n",
      " 0.938921   0.98949534 0.99778444 0.94306314 0.8509973  0.9416636\n",
      " 0.676276   0.6874367  0.9971843  0.5455326  0.8301205  0.5389459\n",
      " 0.98276013 0.92263263 0.9906135  0.964939   0.7372445  0.9516104\n",
      " 0.8125406  0.9697533  0.86225796 0.9402132  0.90905654 0.5789137\n",
      " 0.92603976 0.8031253  0.6955167  0.8884019  0.58652925 0.9942137\n",
      " 0.9888322  0.60577315 0.8926251  0.5150078  0.5535653  0.9947779\n",
      " 0.8242631  0.9782848  0.69440985 0.9865199  0.6033759  0.9377422\n",
      " 0.51866066 0.9239976  0.9481959  0.7179274  0.9165933  0.5869393\n",
      " 0.9853753  0.85095423 0.9061974  0.96001405 0.96228373 0.7218758\n",
      " 0.97407776 0.7317693  0.9881412  0.99735844 0.96256953 0.9753853\n",
      " 0.98104835 0.87473917 0.9265798  0.9134261  0.8139073  0.7104204\n",
      " 0.99303687 0.68285066 0.93525004 0.87417597 0.73405504 0.8627093\n",
      " 0.7058427  0.8778599 ]\n"
     ]
    }
   ],
   "source": [
    "print(MSEs)"
   ]
  }
 ],
 "metadata": {
  "kernelspec": {
   "display_name": "sciPENN_env",
   "language": "python",
   "name": "scipenn_env"
  },
  "language_info": {
   "codemirror_mode": {
    "name": "ipython",
    "version": 3
   },
   "file_extension": ".py",
   "mimetype": "text/x-python",
   "name": "python",
   "nbconvert_exporter": "python",
   "pygments_lexer": "ipython3",
   "version": "3.7.0"
  }
 },
 "nbformat": 4,
 "nbformat_minor": 5
}
