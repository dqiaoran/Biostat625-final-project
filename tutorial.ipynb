{
 "cells": [
  {
   "cell_type": "code",
   "execution_count": 1,
   "metadata": {},
   "outputs": [],
   "source": [
    "%load_ext autoreload\n",
    "%autoreload 2\n",
    "\n",
    "import numpy as np\n",
    "from matplotlib import pyplot\n",
    "import os\n",
    "from copy import deepcopy\n",
    "\n",
    "from time import time\n",
    "\n",
    "from math import ceil\n",
    "from scipy.stats import spearmanr, gamma, poisson\n",
    "\n",
    "from anndata import AnnData, read_h5ad\n",
    "import scanpy as sc\n",
    "from scanpy import read\n",
    "import pandas as pd\n",
    "\n",
    "from torch.utils.data import DataLoader, TensorDataset\n",
    "from torch import tensor\n",
    "from torch.cuda import is_available\n",
    "\n",
    "from sciPENN.sciPENN_API import sciPENN_API"
   ]
  },
  {
   "cell_type": "code",
   "execution_count": 2,
   "metadata": {},
   "outputs": [],
   "source": [
    "\"\"\"Read in Raw Data\"\"\"\n",
    "\n",
    "adata_gene = sc.read(\"/home/asmauger/biostat625final/pbmc_gene.h5ad\")\n",
    "adata_protein = sc.read(\"/home/asmauger/biostat625final/pbmc_protein.h5ad\")"
   ]
  },
  {
   "cell_type": "markdown",
   "metadata": {},
   "source": [
    "## Scenario 1: Training CITE-seq, Test scRNA-seq"
   ]
  },
  {
   "cell_type": "markdown",
   "metadata": {},
   "source": [
    "For this scenario, we designate patients P1, P3, P4, P7 as the training data. The other patients are treated as an scRNA-seq test set (proteins are held out)."
   ]
  },
  {
   "cell_type": "code",
   "execution_count": 3,
   "metadata": {},
   "outputs": [],
   "source": [
    "\"\"\"Create training and test\"\"\"\n",
    "\n",
    "# define training set to be donors p1, p3\n",
    "# this is deviating from the tutorial to make the size more manageable\n",
    "train_bool = [x in ['P1', 'P3'] for x in adata_gene.obs['donor']]\n",
    "# filter gene data down to these donors\n",
    "adata_gene_train = adata_gene[train_bool].copy() \n",
    "# filter protein data down to these donors\n",
    "adata_protein_train = adata_protein[train_bool].copy()\n",
    "\n",
    "# filter gene data down to donors p5 and p7 for testing\n",
    "# again, this is deviating from tutorial to make size more manageable\n",
    "test_bool = [x in ['P5', 'P7'] for x in adata_gene.obs['donor']]\n",
    "adata_gene_test = adata_gene[train_bool].copy()\n",
    "# there is no protein test set (since we are trying to predict proteins)\n",
    "\n",
    "adata_gene_train = adata_gene_train[:, 10000:11000]\n",
    "adata_gene_test = adata_gene_test[:, 10000:11000]\n"
   ]
  },
  {
   "cell_type": "markdown",
   "metadata": {},
   "source": [
    "Create the sciPENN object. Since we only have a single CITE-seq reference, we provide only a single gene training set (represented by the list of length 1 passed to gene_trainsets) and a single protein training set (represented by the list of length 1 passed to protein_trainsets). \n",
    "\n",
    "The key used to identify batches is 'donor' for both the CITE-seq reference and the scRNA-seq query, so we pass this key to both the train_batchkeys argument and the test_batchkey argument.\n",
    "\n",
    "Lastly, we also want to transfer celltype labels from CITE-seq reference to query. The celltypes in the CITE-seq reference are identified by the obs key \"celltype.l3\", so we supply this string to the type_key argument."
   ]
  },
  {
   "cell_type": "code",
   "execution_count": 4,
   "metadata": {
    "scrolled": false
   },
   "outputs": [
    {
     "name": "stdout",
     "output_type": "stream",
     "text": [
      "Using CPU\n"
     ]
    },
    {
     "name": "stderr",
     "output_type": "stream",
     "text": [
      "Trying to set attribute `.obs` of view, copying.\n",
      "Trying to set attribute `.obs` of view, copying.\n"
     ]
    },
    {
     "name": "stdout",
     "output_type": "stream",
     "text": [
      "\n",
      "QC Filtering Training Cells\n",
      "QC Filtering Testing Cells\n",
      "\n",
      "QC Filtering Training Genes\n",
      "QC Filtering Testing Genes\n",
      "\n",
      "Normalizing Training Cells\n",
      "Normalizing Testing Cells\n",
      "\n",
      "Log-Normalizing Training Data\n",
      "Log-Normalizing Testing Data\n",
      "\n",
      "Normalizing Gene Training Data by Batch\n"
     ]
    },
    {
     "name": "stderr",
     "output_type": "stream",
     "text": [
      "100%|██████████| 2/2 [00:00<00:00, 47.71it/s]\n"
     ]
    },
    {
     "name": "stdout",
     "output_type": "stream",
     "text": [
      "\n",
      "Normalizing Protein Training Data by Batch\n"
     ]
    },
    {
     "name": "stderr",
     "output_type": "stream",
     "text": [
      "100%|██████████| 2/2 [00:00<00:00, 49.04it/s]\n"
     ]
    },
    {
     "name": "stdout",
     "output_type": "stream",
     "text": [
      "\n",
      "Normalizing Gene Testing Data by Batch\n"
     ]
    },
    {
     "name": "stderr",
     "output_type": "stream",
     "text": [
      "100%|██████████| 2/2 [00:00<00:00, 49.45it/s]\n"
     ]
    }
   ],
   "source": [
    "sciPENN = sciPENN_API(gene_trainsets = [adata_gene_train], protein_trainsets = [adata_protein_train], \n",
    "                      gene_test = adata_gene_test, train_batchkeys = ['donor'], test_batchkey = 'donor',  use_gpu=False,\n",
    "                     select_hvg=False)"
   ]
  },
  {
   "cell_type": "code",
   "execution_count": 18,
   "metadata": {},
   "outputs": [
    {
     "data": {
      "text/plain": [
       "View of AnnData object with n_obs × n_vars = 32795 × 1000\n",
       "    obs: 'nCount_ADT', 'nFeature_ADT', 'nCount_RNA', 'nFeature_RNA', 'orig.ident', 'lane', 'donor', 'time', 'celltype.l1', 'celltype.l2', 'celltype.l3', 'Phase', 'batch'\n",
       "    var: 'name'\n",
       "    obsm: 'X_apca', 'X_aumap', 'X_pca', 'X_spca', 'X_umap', 'X_wnn.umap'"
      ]
     },
     "execution_count": 18,
     "metadata": {},
     "output_type": "execute_result"
    }
   ],
   "source": []
  },
  {
   "cell_type": "markdown",
   "metadata": {},
   "source": [
    "Train the sciPENN object. Here, we ask the model to estimate quantiles 0.1, 0.25, 0.75, and 0.9. The weights directory is \"pbmc_to_pbmc\""
   ]
  },
  {
   "cell_type": "code",
   "execution_count": 5,
   "metadata": {},
   "outputs": [
    {
     "name": "stdout",
     "output_type": "stream",
     "text": [
      "Epoch 0 prediction loss = 1.465\n",
      "Epoch 1 prediction loss = 1.456\n",
      "Epoch 2 prediction loss = 1.440\n",
      "Epoch 3 prediction loss = 1.407\n",
      "Epoch 4 prediction loss = 1.350\n",
      "Epoch 5 prediction loss = 1.279\n",
      "Epoch 6 prediction loss = 1.219\n",
      "Epoch 7 prediction loss = 1.183\n",
      "Epoch 8 prediction loss = 1.167\n",
      "Epoch 9 prediction loss = 1.164\n",
      "Epoch 10 prediction loss = 1.172\n",
      "Epoch 11 prediction loss = 1.180\n",
      "Epoch 12 prediction loss = 1.182\n",
      "Epoch 13 prediction loss = 1.176\n",
      "Decaying loss to 0.0001\n",
      "Epoch 14 prediction loss = 1.175\n",
      "Epoch 15 prediction loss = 1.172\n",
      "Epoch 16 prediction loss = 1.171\n",
      "Epoch 17 prediction loss = 1.169\n",
      "Epoch 18 prediction loss = 1.166\n",
      "Epoch 19 prediction loss = 1.164\n",
      "Decaying loss to 1e-05\n",
      "Epoch 20 prediction loss = 1.164\n"
     ]
    }
   ],
   "source": [
    "sciPENN.train(quantiles = [0.1, 0.25, 0.75, 0.9], n_epochs = 10000, ES_max = 12, decay_max = 6, \n",
    "             decay_step = 0.1, lr = 10**(-3), weights_dir = \"pbmc_to_pbmc\", load = True)"
   ]
  },
  {
   "cell_type": "markdown",
   "metadata": {},
   "source": [
    "Use the predict method to predict protein expression and celltype labels in the scRNA-seq test dataset."
   ]
  },
  {
   "cell_type": "code",
   "execution_count": 6,
   "metadata": {},
   "outputs": [],
   "source": [
    "predicted_test = sciPENN.predict()"
   ]
  },
  {
   "cell_type": "markdown",
   "metadata": {},
   "source": [
    "The predicted protein data is accessible via attribute X."
   ]
  },
  {
   "cell_type": "code",
   "execution_count": 7,
   "metadata": {},
   "outputs": [
    {
     "data": {
      "text/plain": [
       "array([[-0.7746329 , -0.65737534, -0.13420999, ...,  0.07423229,\n",
       "        -0.4964252 ,  0.12834555],\n",
       "       [-0.4914093 ,  0.37110937, -0.63508147, ..., -0.5585097 ,\n",
       "         0.44774455, -0.2483236 ],\n",
       "       [-0.36307186, -0.24987161, -0.68349564, ..., -0.70489234,\n",
       "         1.5201046 , -1.0842584 ],\n",
       "       ...,\n",
       "       [-0.04042007,  0.83019274,  0.03713248, ..., -0.30181816,\n",
       "         0.15947166, -0.25917786],\n",
       "       [-0.17794195,  0.5090235 ,  0.42953056, ..., -0.33902368,\n",
       "         0.12975785, -0.41442466],\n",
       "       [ 0.02950515,  0.6669995 ,  0.01941851, ..., -0.06443219,\n",
       "         0.37494168,  0.11847007]], dtype=float32)"
      ]
     },
     "execution_count": 7,
     "metadata": {},
     "output_type": "execute_result"
    }
   ],
   "source": [
    "predicted_test.X"
   ]
  },
  {
   "cell_type": "markdown",
   "metadata": {},
   "source": [
    "Use the 'batch' cell metadata field to see which batch a cell is from. E.g. the batch information 'DS-Test P5' means the corresponding cell is from batch P5 of the query dataset."
   ]
  },
  {
   "cell_type": "code",
   "execution_count": 8,
   "metadata": {
    "scrolled": true
   },
   "outputs": [
    {
     "data": {
      "text/plain": [
       "index\n",
       "L1_AATGACCAGTTGAAAC    DS-Test P1\n",
       "L1_ACTCCCACAAGCAGGT    DS-Test P3\n",
       "L1_AGACACTTCGGCTGAC    DS-Test P1\n",
       "L1_AGGGAGTAGTACGAGC    DS-Test P1\n",
       "L1_AGGGTCCAGACTACCT    DS-Test P3\n",
       "                          ...    \n",
       "L5_TACCCACAGCAACCAG    DS-Test P3\n",
       "L5_TCTCACGCACTTCATT    DS-Test P1\n",
       "L5_TGATTTCCATATAGCC    DS-Test P1\n",
       "L5_TTCAATCCACAGAAGC    DS-Test P1\n",
       "L5_TTCGGTCCAGGCACAA    DS-Test P3\n",
       "Name: batch, Length: 113, dtype: object"
      ]
     },
     "execution_count": 8,
     "metadata": {},
     "output_type": "execute_result"
    }
   ],
   "source": [
    "predicted_test.obs['batch']"
   ]
  },
  {
   "cell_type": "markdown",
   "metadata": {},
   "source": [
    "Use the 'transfered cell labels' cell metadata field to see the predicted celltype for each cell. We actually know the true celltype label in this case (found in celltype.l3) so we can view the test accuracy of predictions."
   ]
  },
  {
   "cell_type": "code",
   "execution_count": 9,
   "metadata": {},
   "outputs": [
    {
     "ename": "KeyError",
     "evalue": "'transfered cell labels'",
     "output_type": "error",
     "traceback": [
      "\u001b[0;31m---------------------------------------------------------------------------\u001b[0m",
      "\u001b[0;31mKeyError\u001b[0m                                  Traceback (most recent call last)",
      "\u001b[0;32m~/.conda/envs/scipenn_env4/lib/python3.7/site-packages/pandas/core/indexes/base.py\u001b[0m in \u001b[0;36mget_loc\u001b[0;34m(self, key, method, tolerance)\u001b[0m\n\u001b[1;32m   2897\u001b[0m             \u001b[0;32mtry\u001b[0m\u001b[0;34m:\u001b[0m\u001b[0;34m\u001b[0m\u001b[0m\n\u001b[0;32m-> 2898\u001b[0;31m                 \u001b[0;32mreturn\u001b[0m \u001b[0mself\u001b[0m\u001b[0;34m.\u001b[0m\u001b[0m_engine\u001b[0m\u001b[0;34m.\u001b[0m\u001b[0mget_loc\u001b[0m\u001b[0;34m(\u001b[0m\u001b[0mcasted_key\u001b[0m\u001b[0;34m)\u001b[0m\u001b[0;34m\u001b[0m\u001b[0m\n\u001b[0m\u001b[1;32m   2899\u001b[0m             \u001b[0;32mexcept\u001b[0m \u001b[0mKeyError\u001b[0m \u001b[0;32mas\u001b[0m \u001b[0merr\u001b[0m\u001b[0;34m:\u001b[0m\u001b[0;34m\u001b[0m\u001b[0m\n",
      "\u001b[0;32mpandas/_libs/index.pyx\u001b[0m in \u001b[0;36mpandas._libs.index.IndexEngine.get_loc\u001b[0;34m()\u001b[0m\n",
      "\u001b[0;32mpandas/_libs/index.pyx\u001b[0m in \u001b[0;36mpandas._libs.index.IndexEngine.get_loc\u001b[0;34m()\u001b[0m\n",
      "\u001b[0;32mpandas/_libs/hashtable_class_helper.pxi\u001b[0m in \u001b[0;36mpandas._libs.hashtable.PyObjectHashTable.get_item\u001b[0;34m()\u001b[0m\n",
      "\u001b[0;32mpandas/_libs/hashtable_class_helper.pxi\u001b[0m in \u001b[0;36mpandas._libs.hashtable.PyObjectHashTable.get_item\u001b[0;34m()\u001b[0m\n",
      "\u001b[0;31mKeyError\u001b[0m: 'transfered cell labels'",
      "\nThe above exception was the direct cause of the following exception:\n",
      "\u001b[0;31mKeyError\u001b[0m                                  Traceback (most recent call last)",
      "\u001b[0;32m/tmp/ipykernel_19533/591601024.py\u001b[0m in \u001b[0;36m<module>\u001b[0;34m\u001b[0m\n\u001b[0;32m----> 1\u001b[0;31m \u001b[0mprint\u001b[0m\u001b[0;34m(\u001b[0m\u001b[0mpredicted_test\u001b[0m\u001b[0;34m.\u001b[0m\u001b[0mobs\u001b[0m\u001b[0;34m[\u001b[0m\u001b[0;34m'transfered cell labels'\u001b[0m\u001b[0;34m]\u001b[0m\u001b[0;34m)\u001b[0m\u001b[0;34m\u001b[0m\u001b[0m\n\u001b[0m\u001b[1;32m      2\u001b[0m \u001b[0mprint\u001b[0m\u001b[0;34m(\u001b[0m\u001b[0;34mf\"\\n\\n\\nTest set accuracy: {(predicted_test.obs['transfered cell labels'] == predicted_test.obs['celltype.l3']).mean():.4f}\"\u001b[0m\u001b[0;34m)\u001b[0m\u001b[0;34m\u001b[0m\u001b[0m\n",
      "\u001b[0;32m~/.conda/envs/scipenn_env4/lib/python3.7/site-packages/pandas/core/frame.py\u001b[0m in \u001b[0;36m__getitem__\u001b[0;34m(self, key)\u001b[0m\n\u001b[1;32m   2904\u001b[0m             \u001b[0;32mif\u001b[0m \u001b[0mself\u001b[0m\u001b[0;34m.\u001b[0m\u001b[0mcolumns\u001b[0m\u001b[0;34m.\u001b[0m\u001b[0mnlevels\u001b[0m \u001b[0;34m>\u001b[0m \u001b[0;36m1\u001b[0m\u001b[0;34m:\u001b[0m\u001b[0;34m\u001b[0m\u001b[0m\n\u001b[1;32m   2905\u001b[0m                 \u001b[0;32mreturn\u001b[0m \u001b[0mself\u001b[0m\u001b[0;34m.\u001b[0m\u001b[0m_getitem_multilevel\u001b[0m\u001b[0;34m(\u001b[0m\u001b[0mkey\u001b[0m\u001b[0;34m)\u001b[0m\u001b[0;34m\u001b[0m\u001b[0m\n\u001b[0;32m-> 2906\u001b[0;31m             \u001b[0mindexer\u001b[0m \u001b[0;34m=\u001b[0m \u001b[0mself\u001b[0m\u001b[0;34m.\u001b[0m\u001b[0mcolumns\u001b[0m\u001b[0;34m.\u001b[0m\u001b[0mget_loc\u001b[0m\u001b[0;34m(\u001b[0m\u001b[0mkey\u001b[0m\u001b[0;34m)\u001b[0m\u001b[0;34m\u001b[0m\u001b[0m\n\u001b[0m\u001b[1;32m   2907\u001b[0m             \u001b[0;32mif\u001b[0m \u001b[0mis_integer\u001b[0m\u001b[0;34m(\u001b[0m\u001b[0mindexer\u001b[0m\u001b[0;34m)\u001b[0m\u001b[0;34m:\u001b[0m\u001b[0;34m\u001b[0m\u001b[0m\n\u001b[1;32m   2908\u001b[0m                 \u001b[0mindexer\u001b[0m \u001b[0;34m=\u001b[0m \u001b[0;34m[\u001b[0m\u001b[0mindexer\u001b[0m\u001b[0;34m]\u001b[0m\u001b[0;34m\u001b[0m\u001b[0m\n",
      "\u001b[0;32m~/.conda/envs/scipenn_env4/lib/python3.7/site-packages/pandas/core/indexes/base.py\u001b[0m in \u001b[0;36mget_loc\u001b[0;34m(self, key, method, tolerance)\u001b[0m\n\u001b[1;32m   2898\u001b[0m                 \u001b[0;32mreturn\u001b[0m \u001b[0mself\u001b[0m\u001b[0;34m.\u001b[0m\u001b[0m_engine\u001b[0m\u001b[0;34m.\u001b[0m\u001b[0mget_loc\u001b[0m\u001b[0;34m(\u001b[0m\u001b[0mcasted_key\u001b[0m\u001b[0;34m)\u001b[0m\u001b[0;34m\u001b[0m\u001b[0m\n\u001b[1;32m   2899\u001b[0m             \u001b[0;32mexcept\u001b[0m \u001b[0mKeyError\u001b[0m \u001b[0;32mas\u001b[0m \u001b[0merr\u001b[0m\u001b[0;34m:\u001b[0m\u001b[0;34m\u001b[0m\u001b[0m\n\u001b[0;32m-> 2900\u001b[0;31m                 \u001b[0;32mraise\u001b[0m \u001b[0mKeyError\u001b[0m\u001b[0;34m(\u001b[0m\u001b[0mkey\u001b[0m\u001b[0;34m)\u001b[0m \u001b[0;32mfrom\u001b[0m \u001b[0merr\u001b[0m\u001b[0;34m\u001b[0m\u001b[0m\n\u001b[0m\u001b[1;32m   2901\u001b[0m \u001b[0;34m\u001b[0m\u001b[0m\n\u001b[1;32m   2902\u001b[0m         \u001b[0;32mif\u001b[0m \u001b[0mtolerance\u001b[0m \u001b[0;32mis\u001b[0m \u001b[0;32mnot\u001b[0m \u001b[0;32mNone\u001b[0m\u001b[0;34m:\u001b[0m\u001b[0;34m\u001b[0m\u001b[0m\n",
      "\u001b[0;31mKeyError\u001b[0m: 'transfered cell labels'"
     ]
    }
   ],
   "source": [
    "print(predicted_test.obs['transfered cell labels'])\n",
    "print(f\"\\n\\n\\nTest set accuracy: {(predicted_test.obs['transfered cell labels'] == predicted_test.obs['celltype.l3']).mean():.4f}\")"
   ]
  },
  {
   "cell_type": "markdown",
   "metadata": {},
   "source": [
    "Use the embed command to estimate a lower-dimension latent representation of the data. Both the CITE-seq reference and scRNA-seq query are embedded into a common latent space, which can be further dimension reduced and visualized using UMAP."
   ]
  },
  {
   "cell_type": "code",
   "execution_count": 15,
   "metadata": {},
   "outputs": [],
   "source": [
    "embedding = sciPENN.embed()"
   ]
  },
  {
   "cell_type": "markdown",
   "metadata": {},
   "source": [
    "The embedding is accessible via attribute X."
   ]
  },
  {
   "cell_type": "code",
   "execution_count": 16,
   "metadata": {},
   "outputs": [
    {
     "data": {
      "text/plain": [
       "array([[-0.7746329 , -0.65737534, -0.13420999, ...,  0.07423229,\n",
       "        -0.4964252 ,  0.12834555],\n",
       "       [-0.4914093 ,  0.37110937, -0.63508147, ..., -0.5585097 ,\n",
       "         0.44774455, -0.2483236 ],\n",
       "       [-0.36307186, -0.24987161, -0.68349564, ..., -0.70489234,\n",
       "         1.5201046 , -1.0842584 ],\n",
       "       ...,\n",
       "       [-0.04042007,  0.83019274,  0.03713248, ..., -0.30181816,\n",
       "         0.15947166, -0.25917786],\n",
       "       [-0.17794195,  0.5090235 ,  0.42953056, ..., -0.33902368,\n",
       "         0.12975785, -0.41442466],\n",
       "       [ 0.02950515,  0.6669995 ,  0.01941851, ..., -0.06443219,\n",
       "         0.37494168,  0.11847007]], dtype=float32)"
      ]
     },
     "execution_count": 16,
     "metadata": {},
     "output_type": "execute_result"
    }
   ],
   "source": [
    "predicted_test.X"
   ]
  },
  {
   "cell_type": "markdown",
   "metadata": {},
   "source": [
    "Use the 'batch' cell metadata field to see which dataset and batch a cell is from. E.g. the batch information 'DS-Test P5' means the corresponding cell is from batch P5 of the query dataset. 'DS-1 P4' means the corresponding cell is from batch P4 of the first CITE-seq reference."
   ]
  },
  {
   "cell_type": "code",
   "execution_count": 17,
   "metadata": {},
   "outputs": [
    {
     "data": {
      "text/plain": [
       "index\n",
       "L1_AATGACCAGTTGAAAC       DS-1 P1\n",
       "L1_ACTCCCACAAGCAGGT       DS-1 P3\n",
       "L1_AGACACTTCGGCTGAC       DS-1 P1\n",
       "L1_AGGGAGTAGTACGAGC       DS-1 P1\n",
       "L1_AGGGTCCAGACTACCT       DS-1 P3\n",
       "                          ...    \n",
       "L5_TACCCACAGCAACCAG    DS-Test P3\n",
       "L5_TCTCACGCACTTCATT    DS-Test P1\n",
       "L5_TGATTTCCATATAGCC    DS-Test P1\n",
       "L5_TTCAATCCACAGAAGC    DS-Test P1\n",
       "L5_TTCGGTCCAGGCACAA    DS-Test P3\n",
       "Name: batch, Length: 226, dtype: object"
      ]
     },
     "execution_count": 17,
     "metadata": {},
     "output_type": "execute_result"
    }
   ],
   "source": [
    "embedding.obs['batch']"
   ]
  },
  {
   "cell_type": "markdown",
   "metadata": {},
   "source": [
    "View estimated quantiles of the data. We estimate a quantile for every protein in every cell, so each of these layers is an array whose rows index cells and columns index proteins."
   ]
  },
  {
   "cell_type": "code",
   "execution_count": 20,
   "metadata": {},
   "outputs": [
    {
     "name": "stdout",
     "output_type": "stream",
     "text": [
      "[[-0.8660718  -0.56719124 -0.58896625 ... -0.16141163 -0.81078225\n",
      "  -0.30788174]\n",
      " [-0.6598691   0.27645323 -0.13130261 ... -0.22857639  0.20451882\n",
      "  -0.6279048 ]\n",
      " [-0.72408247  0.36490095 -0.1684413  ... -0.7728595   0.5059874\n",
      "  -1.2857238 ]\n",
      " ...\n",
      " [-0.1701657   0.45233893 -0.15208584 ...  0.02045268  0.35814184\n",
      "  -0.5399869 ]\n",
      " [-0.43102813  0.3083251   0.0250212  ... -0.10895663  0.13762899\n",
      "  -0.9771651 ]\n",
      " [-0.37057763  0.31863755 -0.2751903  ... -0.05252589  0.17315592\n",
      "  -0.54936695]]\n"
     ]
    }
   ],
   "source": [
    "q25 = predicted_test.layers['q25']\n",
    "q75 = predicted_test.layers['q75']\n",
    "q10 = predicted_test.layers['q10']\n",
    "q90 = predicted_test.layers['q90']\n",
    "print(q25)"
   ]
  },
  {
   "cell_type": "code",
   "execution_count": 21,
   "metadata": {},
   "outputs": [
    {
     "data": {
      "text/plain": [
       "AnnData object with n_obs × n_vars = 226 × 512\n",
       "    obs: 'nCount_ADT', 'nFeature_ADT', 'nCount_RNA', 'nFeature_RNA', 'orig.ident', 'lane', 'donor', 'time', 'celltype.l1', 'celltype.l2', 'celltype.l3', 'Phase', 'batch'"
      ]
     },
     "execution_count": 21,
     "metadata": {},
     "output_type": "execute_result"
    }
   ],
   "source": [
    "embedding"
   ]
  },
  {
   "cell_type": "markdown",
   "metadata": {},
   "source": [
    "## Scenario 2: Integrate two CITE-seq datasets"
   ]
  },
  {
   "cell_type": "markdown",
   "metadata": {},
   "source": [
    "For this scenario, we integrate two separate CITE-seq datasets. The first consists of patients P1, P3, P4, P7, and the other CITE-seq dataset contains other patients. We use sciPENN to handle the case where the protein panels of the two CITE-seq datasets are not identical. Some proteins are availible in only one CITE-seq dataset, other proteins are availible only in the other dataset. The goal here is to recover the missing proteins in each dataset so that the two CITE-seq datasets can be merged"
   ]
  },
  {
   "cell_type": "code",
   "execution_count": 14,
   "metadata": {},
   "outputs": [],
   "source": [
    "\"\"\"Create training and test\"\"\"\n",
    "\n",
    "train_bool = [x in ['P1', 'P3', 'P4', 'P7'] for x in adata_gene.obs['donor']]\n",
    "\n",
    "adata_gene_set1 = adata_gene[train_bool].copy()\n",
    "adata_protein_set1 = adata_protein[train_bool].copy()\n",
    "adata_gene_set2 = adata_gene[np.invert(train_bool)].copy()\n",
    "adata_protein_set2 = adata_protein[np.invert(train_bool)].copy()\n",
    "\n",
    "common_proteins = adata_protein_train.var.index\n",
    "set1only_proteins = np.random.choice(common_proteins, len(common_proteins)//3, False)\n",
    "common_proteins = np.setdiff1d(common_proteins, set1only_proteins)\n",
    "set2only_proteins = np.random.choice(common_proteins, len(common_proteins)//2, False)\n",
    "\n",
    "set1only_proteins = set(set1only_proteins)\n",
    "set2only_proteins = set(set2only_proteins)\n",
    "\n",
    "keep_set1 = [x not in set2only_proteins for x in adata_protein_train.var.index]\n",
    "keep_set2 = [x not in set1only_proteins for x in adata_protein_train.var.index]\n",
    "\n",
    "adata_protein_set1 = adata_protein_set1[:, keep_set1].copy()\n",
    "adata_protein_set2 = adata_protein_set2[:, keep_set2].copy()"
   ]
  },
  {
   "cell_type": "markdown",
   "metadata": {},
   "source": [
    "Create the sciPENN object. Since we two CITE-seq references and no scRNA-seq query set this time, we provide two gene training sets (one for each CITE-seq reference) and a two protein training sets (the corrresponding protein arrays of the two CITE-seq references). Since we have no scRNA-seq query set, do not provide a gene_test argument.\n",
    "\n",
    "Since we have two CITE-seq references, we need to provide a list of two batch keys for the train_batchkeys argument, which lists the batchkeys for each of the two references. Since the batchkey is 'donor' for both datasets, the two entries in the list are both \"donor\". Since we have no query scRNA-seq dataset, do not provide a test_batchkey argument.\n",
    "\n",
    "For this scenario, we do not want to transfer celltype labels from CITE-seq reference to query. The celltypes is not provided."
   ]
  },
  {
   "cell_type": "code",
   "execution_count": 15,
   "metadata": {
    "scrolled": true
   },
   "outputs": [
    {
     "name": "stdout",
     "output_type": "stream",
     "text": [
      "Searching for GPU\n",
      "GPU not detected, falling back to CPU\n",
      "\n",
      "QC Filtering Training Cells\n",
      "\n",
      "QC Filtering Training Genes\n",
      "\n",
      "Normalizing Training Cells\n",
      "\n",
      "Log-Normalizing Training Data\n",
      "\n",
      "Finding HVGs\n"
     ]
    },
    {
     "name": "stderr",
     "output_type": "stream",
     "text": [
      "... storing 'orig.ident' as categorical\n",
      "... storing 'donor' as categorical\n",
      "... storing 'batch' as categorical\n",
      "... storing 'Dataset' as categorical\n",
      "/Users/jlakkis/anaconda3/envs/scipennenv/lib/python3.7/site-packages/pandas/core/indexing.py:670: SettingWithCopyWarning: \n",
      "A value is trying to be set on a copy of a slice from a DataFrame\n",
      "\n",
      "See the caveats in the documentation: https://pandas.pydata.org/pandas-docs/stable/user_guide/indexing.html#returning-a-view-versus-a-copy\n",
      "  iloc._setitem_with_indexer(indexer, value)\n"
     ]
    },
    {
     "name": "stdout",
     "output_type": "stream",
     "text": [
      "\n",
      "Normalizing Gene Training Data by Batch\n"
     ]
    },
    {
     "name": "stderr",
     "output_type": "stream",
     "text": [
      "100%|█████████████████████████████████████████████| 8/8 [00:02<00:00,  3.78it/s]\n"
     ]
    },
    {
     "name": "stdout",
     "output_type": "stream",
     "text": [
      "\n",
      "Normalizing Protein Training Data by Batch\n"
     ]
    },
    {
     "name": "stderr",
     "output_type": "stream",
     "text": [
      "100%|█████████████████████████████████████████████| 4/4 [00:00<00:00,  4.34it/s]\n",
      "100%|█████████████████████████████████████████████| 4/4 [00:01<00:00,  3.71it/s]\n"
     ]
    }
   ],
   "source": [
    "sciPENN = sciPENN_API(gene_trainsets = [adata_gene_set1, adata_gene_set2], \n",
    "                      protein_trainsets = [adata_protein_set1, adata_protein_set2], \n",
    "                      train_batchkeys = ['donor', 'donor'])"
   ]
  },
  {
   "cell_type": "markdown",
   "metadata": {},
   "source": [
    "Train the sciPENN object. Here, we ask the model to estimate quantiles 0.1, 0.25, 0.75, and 0.9. The weights directory is \"pbmc_to_pbmcINTEGRATE\""
   ]
  },
  {
   "cell_type": "code",
   "execution_count": 16,
   "metadata": {
    "scrolled": true
   },
   "outputs": [],
   "source": [
    "sciPENN.train(quantiles = [0.1, 0.25, 0.75, 0.9], n_epochs = 10000, ES_max = 12, decay_max = 6, \n",
    "             decay_step = 0.1, lr = 10**(-3), weights_dir = \"pbmc_to_pbmcINTEGRATE\", load = True)"
   ]
  },
  {
   "cell_type": "markdown",
   "metadata": {},
   "source": [
    "Use the impute method to impute missing protein expression in each CITE-seq reference set. Note that this is different from the predict method, which would predict protein expression only for the gene test set and return an array with the same number of rows as the test set. The impute function returns an array of n x p, where n is the sum of the number of cells across all CITE-seq references and p is the union of the sets of proteins across al CITE-seq references. A protein will be imputed for a cell in this array only if it wasn't sequenced for that cell. Otherwise the true sequenced value is provided."
   ]
  },
  {
   "cell_type": "code",
   "execution_count": 17,
   "metadata": {},
   "outputs": [],
   "source": [
    "imputed_test = sciPENN.impute()"
   ]
  },
  {
   "cell_type": "markdown",
   "metadata": {},
   "source": [
    "The integrated protein reference data is accessible via attribute X."
   ]
  },
  {
   "cell_type": "code",
   "execution_count": 18,
   "metadata": {},
   "outputs": [
    {
     "data": {
      "text/plain": [
       "array([[ 4.48758692e-01, -8.01393747e-01, -3.42670083e-01, ...,\n",
       "        -4.10658121e-01, -5.39497077e-01, -6.77482486e-02],\n",
       "       [-4.67995927e-02,  1.12219346e+00, -4.16118801e-02, ...,\n",
       "        -3.67593259e-01,  1.34710538e+00,  2.94366851e-03],\n",
       "       [ 8.93130660e-01,  2.32020020e-01,  2.72543192e-01, ...,\n",
       "        -4.26250935e-01,  8.23240519e-01,  1.39810681e-01],\n",
       "       ...,\n",
       "       [ 1.02716215e-01,  1.30520761e-03,  7.59903312e-01, ...,\n",
       "        -2.01725900e-01, -1.95526272e-01,  1.23690259e+00],\n",
       "       [-3.45076263e-01, -2.60932874e-02,  9.24792290e-01, ...,\n",
       "         3.67230892e-01,  3.22137713e-01,  9.67191458e-01],\n",
       "       [ 1.25230563e+00, -4.54774916e-01,  1.19021249e+00, ...,\n",
       "         2.84777462e-01,  1.17554748e+00, -1.42882025e+00]], dtype=float32)"
      ]
     },
     "execution_count": 18,
     "metadata": {},
     "output_type": "execute_result"
    }
   ],
   "source": [
    "imputed_test.X"
   ]
  },
  {
   "cell_type": "markdown",
   "metadata": {},
   "source": [
    "We can use the 'Dataset' cell metadata field to see which CITE-seq dataset each cell is from. Dataset 1 refers to the first CITE-seq dataset (whose gene data was the first element in the gene_trainsets list and whose protein data was the first element in the protein_trainsets list)."
   ]
  },
  {
   "cell_type": "code",
   "execution_count": 19,
   "metadata": {},
   "outputs": [
    {
     "data": {
      "text/plain": [
       "index\n",
       "L1_AAACCCAAGACATACA-0      Dataset 1\n",
       "L1_AAACCCACAACTGGTT-0      Dataset 1\n",
       "L1_AAACCCACACGTACTA-0      Dataset 1\n",
       "L1_AAACCCACAGCATACT-0      Dataset 1\n",
       "L1_AAACCCACATCAGTCA-0      Dataset 1\n",
       "                             ...    \n",
       "E2L8_TTTGTTGGTCGTGATT-1    Dataset 2\n",
       "E2L8_TTTGTTGGTGTGCCTG-1    Dataset 2\n",
       "E2L8_TTTGTTGGTTAGTTCG-1    Dataset 2\n",
       "E2L8_TTTGTTGGTTGGCTAT-1    Dataset 2\n",
       "E2L8_TTTGTTGTCTCATGGA-1    Dataset 2\n",
       "Name: Dataset, Length: 161748, dtype: object"
      ]
     },
     "execution_count": 19,
     "metadata": {},
     "output_type": "execute_result"
    }
   ],
   "source": [
    "imputed_test.obs['Dataset']"
   ]
  },
  {
   "cell_type": "markdown",
   "metadata": {},
   "source": [
    "Each dataset has batches inside it. Use the 'batch' cell metadata field to see which batch a cell is from. E.g. the batch information 'DS-1 P4' means the corresponding cell is from batch P4 of dataset 1."
   ]
  },
  {
   "cell_type": "code",
   "execution_count": 20,
   "metadata": {
    "scrolled": true
   },
   "outputs": [
    {
     "data": {
      "text/plain": [
       "index\n",
       "L1_AAACCCAAGACATACA-0      DS-1 P1\n",
       "L1_AAACCCACAACTGGTT-0      DS-1 P4\n",
       "L1_AAACCCACACGTACTA-0      DS-1 P3\n",
       "L1_AAACCCACAGCATACT-0      DS-1 P4\n",
       "L1_AAACCCACATCAGTCA-0      DS-1 P3\n",
       "                            ...   \n",
       "E2L8_TTTGTTGGTCGTGATT-1    DS-2 P5\n",
       "E2L8_TTTGTTGGTGTGCCTG-1    DS-2 P5\n",
       "E2L8_TTTGTTGGTTAGTTCG-1    DS-2 P8\n",
       "E2L8_TTTGTTGGTTGGCTAT-1    DS-2 P5\n",
       "E2L8_TTTGTTGTCTCATGGA-1    DS-2 P5\n",
       "Name: batch, Length: 161748, dtype: object"
      ]
     },
     "execution_count": 20,
     "metadata": {},
     "output_type": "execute_result"
    }
   ],
   "source": [
    "imputed_test.obs['batch']"
   ]
  },
  {
   "cell_type": "markdown",
   "metadata": {},
   "source": [
    "We may want a quick way to identify which proteins were sequenced for a particular dataset. The following commands demontrate how to do this."
   ]
  },
  {
   "cell_type": "code",
   "execution_count": 21,
   "metadata": {},
   "outputs": [],
   "source": [
    "proteins = imputed_test.var.index\n",
    "\n",
    "proteins1 = proteins[imputed_test.var['Dataset 1']] #get proteins sequenced in Dataset 1\n",
    "proteins2 = proteins[imputed_test.var['Dataset 2']] #get proteins sequenced in Dataset 1"
   ]
  },
  {
   "cell_type": "markdown",
   "metadata": {},
   "source": [
    "Recall that the overall array (imputed_test.X) consists of both imputed and true protein values, with imputed values being used when the protein wasn't sequenced. We can separate this array into 4 subarrays:\n",
    "\n",
    "1. Imputed Protein array in Dataset 1\n",
    "2. Sequenced Protein array in Dataset 1\n",
    "3. Imputed Protein array in Dataset 2\n",
    "4. Sequenced Protein array in Dataset 2"
   ]
  },
  {
   "cell_type": "code",
   "execution_count": 22,
   "metadata": {},
   "outputs": [],
   "source": [
    "ds1_cells = imputed_test.obs['Dataset'] == 'Dataset 1'\n",
    "ds2_cells = imputed_test.obs['Dataset'] == 'Dataset 2'\n",
    "\n",
    "ds1_pred, ds1_seq = np.invert(imputed_test.var['Dataset 1']), imputed_test.var['Dataset 1']\n",
    "ds2_pred, ds2_seq = np.invert(imputed_test.var['Dataset 2']), imputed_test.var['Dataset 2']\n",
    "\n",
    "pred1 = imputed_test[ds1_cells, ds1_pred] #imputed protein array in dataset 1\n",
    "sequenced1 = imputed_test[ds1_cells, ds1_seq] #sequenced protein array in dataset 1\n",
    "pred2 = imputed_test[ds2_cells, ds2_pred] #imputed protein array in dataset 2\n",
    "sequenced2 = imputed_test[ds2_cells, ds2_seq] #sequenced protein array in dataset 2"
   ]
  },
  {
   "cell_type": "markdown",
   "metadata": {},
   "source": [
    "We can embed the two references into a common latent space. The embedding process is identical to scenario 1."
   ]
  },
  {
   "cell_type": "code",
   "execution_count": 23,
   "metadata": {},
   "outputs": [],
   "source": [
    "embedding = sciPENN.embed()"
   ]
  },
  {
   "cell_type": "markdown",
   "metadata": {},
   "source": [
    "Use the 'batch' cell metadata field to see which dataset and batch a cell is from. E.g.'DS-1 P4' means the corresponding cell is from batch P4 of the first CITE-seq reference. 'DS-2 P5' means the corresponding cell is from batch P5 of the first CITE-seq reference. "
   ]
  },
  {
   "cell_type": "code",
   "execution_count": 24,
   "metadata": {},
   "outputs": [
    {
     "data": {
      "text/plain": [
       "index\n",
       "L1_AAACCCAAGACATACA-0      DS-1 P1\n",
       "L1_AAACCCACAACTGGTT-0      DS-1 P4\n",
       "L1_AAACCCACACGTACTA-0      DS-1 P3\n",
       "L1_AAACCCACAGCATACT-0      DS-1 P4\n",
       "L1_AAACCCACATCAGTCA-0      DS-1 P3\n",
       "                            ...   \n",
       "E2L8_TTTGTTGGTCGTGATT-1    DS-2 P5\n",
       "E2L8_TTTGTTGGTGTGCCTG-1    DS-2 P5\n",
       "E2L8_TTTGTTGGTTAGTTCG-1    DS-2 P8\n",
       "E2L8_TTTGTTGGTTGGCTAT-1    DS-2 P5\n",
       "E2L8_TTTGTTGTCTCATGGA-1    DS-2 P5\n",
       "Name: batch, Length: 161748, dtype: object"
      ]
     },
     "execution_count": 24,
     "metadata": {},
     "output_type": "execute_result"
    }
   ],
   "source": [
    "embedding.obs['batch']"
   ]
  },
  {
   "cell_type": "markdown",
   "metadata": {},
   "source": [
    "The 'Dataset' attribute is a quick way to check a cell's source dataset."
   ]
  },
  {
   "cell_type": "code",
   "execution_count": 25,
   "metadata": {},
   "outputs": [
    {
     "data": {
      "text/plain": [
       "index\n",
       "L1_AAACCCAAGACATACA-0      Dataset 1\n",
       "L1_AAACCCACAACTGGTT-0      Dataset 1\n",
       "L1_AAACCCACACGTACTA-0      Dataset 1\n",
       "L1_AAACCCACAGCATACT-0      Dataset 1\n",
       "L1_AAACCCACATCAGTCA-0      Dataset 1\n",
       "                             ...    \n",
       "E2L8_TTTGTTGGTCGTGATT-1    Dataset 2\n",
       "E2L8_TTTGTTGGTGTGCCTG-1    Dataset 2\n",
       "E2L8_TTTGTTGGTTAGTTCG-1    Dataset 2\n",
       "E2L8_TTTGTTGGTTGGCTAT-1    Dataset 2\n",
       "E2L8_TTTGTTGTCTCATGGA-1    Dataset 2\n",
       "Name: Dataset, Length: 161748, dtype: object"
      ]
     },
     "execution_count": 25,
     "metadata": {},
     "output_type": "execute_result"
    }
   ],
   "source": [
    "embedding.obs['Dataset']"
   ]
  },
  {
   "cell_type": "markdown",
   "metadata": {},
   "source": [
    "We can view estimated quantiles just like in Scenario 1. Note that each quantile is estimated for all proteins in. all cells, even when the protein is sequenced in the cell. The quantiles are much more useful for proteins which needed to be imputed for a cell."
   ]
  },
  {
   "cell_type": "code",
   "execution_count": 26,
   "metadata": {},
   "outputs": [],
   "source": [
    "q10_pred = imputed_test[ds1_cells, ds1_pred].layers['q10'] #get q10 for imputed proteins from reference 1\n",
    "q10_truth = imputed_test[ds1_cells, ds1_seq].layers['q10'] #get q10 for sequenced proteins from reference 1, not useful"
   ]
  }
 ],
 "metadata": {
  "kernelspec": {
   "display_name": "sciPENN_env4",
   "language": "python",
   "name": "scipenn_env4"
  },
  "language_info": {
   "codemirror_mode": {
    "name": "ipython",
    "version": 3
   },
   "file_extension": ".py",
   "mimetype": "text/x-python",
   "name": "python",
   "nbconvert_exporter": "python",
   "pygments_lexer": "ipython3",
   "version": "3.7.0"
  }
 },
 "nbformat": 4,
 "nbformat_minor": 4
}
