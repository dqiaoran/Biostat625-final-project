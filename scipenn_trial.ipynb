{
 "cells": [
  {
   "cell_type": "code",
   "execution_count": 1,
   "id": "c80b990d",
   "metadata": {},
   "outputs": [],
   "source": [
    "%load_ext autoreload\n",
    "%autoreload 2\n",
    "\n",
    "import numpy as np\n",
    "from matplotlib import pyplot\n",
    "import os\n",
    "from copy import deepcopy\n",
    "\n",
    "from time import time\n",
    "\n",
    "from math import ceil\n",
    "from scipy.stats import spearmanr, gamma, poisson\n",
    "\n",
    "from anndata import AnnData, read_h5ad\n",
    "import scanpy as sc\n",
    "from scanpy import read\n",
    "import pandas as pd\n",
    "\n",
    "from torch.utils.data import DataLoader, TensorDataset\n",
    "from torch import tensor\n",
    "from torch.cuda import is_available\n",
    "\n",
    "from sciPENN.sciPENN_API import sciPENN_API"
   ]
  },
  {
   "cell_type": "code",
   "execution_count": 2,
   "id": "9eb23cb2",
   "metadata": {},
   "outputs": [],
   "source": [
    "\"\"\"Read in Raw Data\"\"\"\n",
    "\n",
    "\n",
    "adata_gene_train = sc.read(\"/home/asmauger/biostat625final/rna_train_trial.h5ad\")\n",
    "adata_gene_test = sc.read(\"/home/asmauger/biostat625final/rna_test_trial.h5ad\")\n",
    "adata_protein_train = sc.read(\"/home/asmauger/biostat625final/prot_train_trial.h5ad\")\n",
    "ref = sc.read(\"/home/asmauger/biostat625final/pbmc_gene.h5ad\")"
   ]
  },
  {
   "cell_type": "code",
   "execution_count": 7,
   "id": "c3823868",
   "metadata": {},
   "outputs": [
    {
     "name": "stdout",
     "output_type": "stream",
     "text": [
      "AnnData object with n_obs × n_vars = 161764 × 20729\n",
      "    obs: 'nCount_ADT', 'nFeature_ADT', 'nCount_RNA', 'nFeature_RNA', 'orig.ident', 'lane', 'donor', 'time', 'celltype.l1', 'celltype.l2', 'celltype.l3', 'Phase'\n",
      "    var: 'name'\n",
      "    obsm: 'X_apca', 'X_aumap', 'X_pca', 'X_spca', 'X_umap', 'X_wnn.umap'\n",
      "AnnData object with n_obs × n_vars = 35496 × 1001\n",
      "    obs: 'orig.ident', 'nCount_RNA', 'nFeature_RNA', 'cell_id', 'day', 'donor', 'cell_type', 'technology', 'daydonor', 'ident'\n",
      "    uns: 'X_name'\n",
      "    layers: 'logcounts'\n",
      "2cbe27fc5780    day213176\n",
      "f7cf4dfe9ead    day213176\n",
      "b064f92b0732    day213176\n",
      "ba4b38499423    day213176\n",
      "e1689980982e    day213176\n",
      "                  ...    \n",
      "52c0f514e637    day432606\n",
      "554915e7e85f    day432606\n",
      "31f019585af0    day432606\n",
      "0d39776f5ab5    day432606\n",
      "6de4d955c537    day432606\n",
      "Name: daydonor, Length: 35496, dtype: category\n",
      "Categories (9, object): ['day213176', 'day231800', 'day232606', 'day313176', ..., 'day332606', 'day413176', 'day431800', 'day432606']\n",
      "  (8, 0)\t0.43054992\n",
      "  (3, 1)\t0.7825141\n",
      "  (7, 2)\t0.45455283\n",
      "  (2, 3)\t0.5036098\n",
      "  (6, 3)\t0.7056611\n",
      "  (6, 4)\t0.7056611\n",
      "  (8, 4)\t0.7305423\n",
      "  (9, 4)\t1.1959409\n",
      "  (2, 5)\t0.5036098\n",
      "  (0, 6)\t1.1793437\n",
      "  (0, 9)\t0.75429857\n",
      "  (2, 9)\t1.0865568\n",
      "  (4, 9)\t0.4752099\n",
      "  (8, 9)\t0.43054992\n"
     ]
    }
   ],
   "source": [
    "print(ref)\n",
    "print(adata_gene_train)\n",
    "sciPENN_API\n",
    "print(adata_gene_train.obs['daydonor'])\n",
    "import scanpy as sc\n",
    "sc.pp.normalize_total(adata_gene_train)\n",
    "sc.pp.log1p(adata_gene_train)\n",
    "print(adata_gene_train.X[0:, 0:10])"
   ]
  },
  {
   "cell_type": "code",
   "execution_count": 20,
   "id": "f6bb7227",
   "metadata": {},
   "outputs": [
    {
     "name": "stdout",
     "output_type": "stream",
     "text": [
      "Using CPU\n",
      "\n",
      "QC Filtering Training Cells\n",
      "QC Filtering Testing Cells\n",
      "\n",
      "QC Filtering Training Genes\n",
      "QC Filtering Testing Genes\n",
      "\n",
      "Normalizing Training Cells\n",
      "Normalizing Testing Cells\n"
     ]
    },
    {
     "name": "stderr",
     "output_type": "stream",
     "text": [
      "/home/asmauger/.conda/envs/scipenn_env/lib/python3.7/site-packages/scanpy/preprocessing/_normalization.py:182: UserWarning: Some cells have zero counts\n",
      "  warn(UserWarning('Some cells have zero counts'))\n"
     ]
    },
    {
     "name": "stdout",
     "output_type": "stream",
     "text": [
      "\n",
      "Log-Normalizing Training Data\n",
      "Log-Normalizing Testing Data\n",
      "\n",
      "Normalizing Gene Training Data by Batch\n"
     ]
    },
    {
     "name": "stderr",
     "output_type": "stream",
     "text": [
      "100%|██████████| 9/9 [00:00<00:00,  9.81it/s]\n"
     ]
    },
    {
     "name": "stdout",
     "output_type": "stream",
     "text": [
      "\n",
      "Normalizing Protein Training Data by Batch\n"
     ]
    },
    {
     "name": "stderr",
     "output_type": "stream",
     "text": [
      "100%|██████████| 9/9 [00:00<00:00, 16.02it/s]\n"
     ]
    },
    {
     "name": "stdout",
     "output_type": "stream",
     "text": [
      "\n",
      "Normalizing Gene Testing Data by Batch\n"
     ]
    },
    {
     "name": "stderr",
     "output_type": "stream",
     "text": [
      "100%|██████████| 9/9 [00:00<00:00, 10.56it/s]\n"
     ]
    }
   ],
   "source": [
    "# note that donor, day are stored as integers and might not work as expected with scipenn\n",
    "# use 'daydonor' instead\n",
    "sciPENN = sciPENN_API(gene_trainsets = [adata_gene_train], protein_trainsets = [adata_protein_train], \n",
    "                      gene_test = adata_gene_test, train_batchkeys = ['daydonor'], test_batchkey = 'daydonor',  use_gpu=False,\n",
    "                     select_hvg=False)"
   ]
  },
  {
   "cell_type": "code",
   "execution_count": 21,
   "id": "e6c42961",
   "metadata": {},
   "outputs": [
    {
     "name": "stdout",
     "output_type": "stream",
     "text": [
      "Epoch 0 prediction loss = 1.395\n",
      "Epoch 1 prediction loss = 0.993\n",
      "Epoch 2 prediction loss = 0.991\n",
      "Epoch 3 prediction loss = 0.978\n",
      "Epoch 4 prediction loss = 0.976\n",
      "Epoch 5 prediction loss = 0.976\n",
      "Epoch 6 prediction loss = 0.973\n",
      "Epoch 7 prediction loss = 0.976\n",
      "Epoch 8 prediction loss = 0.976\n",
      "Decaying loss to 0.0001\n",
      "Epoch 9 prediction loss = 0.967\n",
      "Epoch 10 prediction loss = 0.965\n",
      "Epoch 11 prediction loss = 0.966\n",
      "Epoch 12 prediction loss = 0.966\n",
      "Epoch 13 prediction loss = 0.965\n",
      "Epoch 14 prediction loss = 0.964\n",
      "Decaying loss to 1e-05\n",
      "Epoch 15 prediction loss = 0.966\n",
      "Epoch 16 prediction loss = 0.966\n",
      "Epoch 17 prediction loss = 0.966\n",
      "Epoch 18 prediction loss = 0.964\n",
      "Epoch 19 prediction loss = 0.964\n",
      "Epoch 20 prediction loss = 0.969\n",
      "Decaying loss to 1.0000000000000002e-06\n",
      "Epoch 21 prediction loss = 0.967\n"
     ]
    }
   ],
   "source": [
    "sciPENN.train(quantiles = [0.1, 0.25, 0.75, 0.9], n_epochs = 10000, ES_max = 12, decay_max = 6, \n",
    "             decay_step = 0.1, lr = 10**(-3), load = True)"
   ]
  },
  {
   "cell_type": "code",
   "execution_count": 1,
   "id": "14a3287f",
   "metadata": {},
   "outputs": [
    {
     "ename": "NameError",
     "evalue": "name 'sciPENN' is not defined",
     "output_type": "error",
     "traceback": [
      "\u001b[0;31m---------------------------------------------------------------------------\u001b[0m",
      "\u001b[0;31mNameError\u001b[0m                                 Traceback (most recent call last)",
      "\u001b[0;32m/tmp/ipykernel_2685/2682975791.py\u001b[0m in \u001b[0;36m<module>\u001b[0;34m\u001b[0m\n\u001b[0;32m----> 1\u001b[0;31m \u001b[0msciPENN\u001b[0m\u001b[0;34m\u001b[0m\u001b[0m\n\u001b[0m",
      "\u001b[0;31mNameError\u001b[0m: name 'sciPENN' is not defined"
     ]
    }
   ],
   "source": [
    "sciPENN"
   ]
  },
  {
   "cell_type": "code",
   "execution_count": 22,
   "id": "a3cf4447",
   "metadata": {},
   "outputs": [],
   "source": [
    "predicted_test = sciPENN.predict()"
   ]
  },
  {
   "cell_type": "code",
   "execution_count": 26,
   "id": "118acfa7",
   "metadata": {},
   "outputs": [
    {
     "data": {
      "text/plain": [
       "array([[ 0.15121748,  0.33904052,  0.5782291 , ...,  0.27637747,\n",
       "        -0.49629128,  0.15581037],\n",
       "       [ 0.05389394,  0.19597393,  0.3290421 , ...,  0.13983977,\n",
       "        -0.11790419,  0.10345943],\n",
       "       [ 0.53248   ,  0.23699027,  0.2946961 , ...,  0.5570383 ,\n",
       "        -0.43868726,  0.64300776],\n",
       "       ...,\n",
       "       [-0.38364536, -0.781911  , -1.4052956 , ..., -0.89036596,\n",
       "         1.4259529 , -1.0780995 ],\n",
       "       [-0.40152654, -0.71844053, -0.9645923 , ..., -0.7365623 ,\n",
       "         1.1618565 , -0.53812027],\n",
       "       [-0.20565024, -0.40426388, -0.41473943, ..., -0.12116696,\n",
       "         0.10742351,  0.12652639]], dtype=float32)"
      ]
     },
     "execution_count": 26,
     "metadata": {},
     "output_type": "execute_result"
    }
   ],
   "source": [
    "# predicted protein expression\n",
    "predicted_test.X"
   ]
  }
 ],
 "metadata": {
  "kernelspec": {
   "display_name": "sciPENN_env",
   "language": "python",
   "name": "scipenn_env"
  },
  "language_info": {
   "codemirror_mode": {
    "name": "ipython",
    "version": 3
   },
   "file_extension": ".py",
   "mimetype": "text/x-python",
   "name": "python",
   "nbconvert_exporter": "python",
   "pygments_lexer": "ipython3",
   "version": "3.7.0"
  }
 },
 "nbformat": 4,
 "nbformat_minor": 5
}
