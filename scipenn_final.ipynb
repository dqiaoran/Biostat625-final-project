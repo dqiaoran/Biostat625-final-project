{
 "cells": [
  {
   "cell_type": "code",
   "execution_count": 2,
   "id": "4babeb6e",
   "metadata": {},
   "outputs": [],
   "source": [
    "%load_ext autoreload\n",
    "%autoreload 2\n",
    "\n",
    "import numpy as np\n",
    "from matplotlib import pyplot\n",
    "import os\n",
    "from copy import deepcopy\n",
    "\n",
    "from time import time\n",
    "\n",
    "from math import ceil\n",
    "from scipy.stats import spearmanr, gamma, poisson\n",
    "\n",
    "from anndata import AnnData, read_h5ad\n",
    "import scanpy as sc\n",
    "from scanpy import read\n",
    "import pandas as pd\n",
    "\n",
    "from torch.utils.data import DataLoader, TensorDataset\n",
    "from torch import tensor\n",
    "from torch.cuda import is_available\n",
    "\n",
    "from sciPENN.Preprocessing import preprocess\n",
    "from sciPENN.sciPENN_API import sciPENN_API\n",
    "\n",
    "from matplotlib import colors as mcolors\n",
    "\n"
   ]
  },
  {
   "cell_type": "code",
   "execution_count": 3,
   "id": "20f4022b",
   "metadata": {},
   "outputs": [],
   "source": [
    "\"\"\"Read in Raw Data\"\"\"\n",
    "adata_gene_train = sc.read(\"/home/asmauger/biostat625final/rna_train_hvg.h5ad\")\n",
    "adata_protein_train = sc.read(\"/home/asmauger/biostat625final/prot_train.h5ad\")\n",
    "adata_gene_test = sc.read(\"/home/asmauger/biostat625final/rna_test_hvg.h5ad\")\n",
    "adata_protein_test = sc.read(\"/home/asmauger/biostat625final/prot_test.h5ad\")"
   ]
  },
  {
   "cell_type": "code",
   "execution_count": 4,
   "id": "ff7c3dc7",
   "metadata": {},
   "outputs": [
    {
     "data": {
      "text/html": [
       "<div>\n",
       "<style scoped>\n",
       "    .dataframe tbody tr th:only-of-type {\n",
       "        vertical-align: middle;\n",
       "    }\n",
       "\n",
       "    .dataframe tbody tr th {\n",
       "        vertical-align: top;\n",
       "    }\n",
       "\n",
       "    .dataframe thead th {\n",
       "        text-align: right;\n",
       "    }\n",
       "</style>\n",
       "<table border=\"1\" class=\"dataframe\">\n",
       "  <thead>\n",
       "    <tr style=\"text-align: right;\">\n",
       "      <th></th>\n",
       "      <th>orig.ident</th>\n",
       "      <th>nCount_RNA</th>\n",
       "      <th>nFeature_RNA</th>\n",
       "      <th>cell_id</th>\n",
       "      <th>day</th>\n",
       "      <th>donor</th>\n",
       "      <th>cell_type</th>\n",
       "      <th>technology</th>\n",
       "      <th>daydonor</th>\n",
       "      <th>ident</th>\n",
       "    </tr>\n",
       "  </thead>\n",
       "  <tbody>\n",
       "    <tr>\n",
       "      <th>45006fe3e4c8</th>\n",
       "      <td>SeuratProject</td>\n",
       "      <td>613.0</td>\n",
       "      <td>103</td>\n",
       "      <td>45006fe3e4c8</td>\n",
       "      <td>2</td>\n",
       "      <td>32606</td>\n",
       "      <td>HSC</td>\n",
       "      <td>citeseq</td>\n",
       "      <td>day232606</td>\n",
       "      <td>SeuratProject</td>\n",
       "    </tr>\n",
       "    <tr>\n",
       "      <th>d02759a80ba2</th>\n",
       "      <td>SeuratProject</td>\n",
       "      <td>1191.0</td>\n",
       "      <td>114</td>\n",
       "      <td>d02759a80ba2</td>\n",
       "      <td>2</td>\n",
       "      <td>32606</td>\n",
       "      <td>HSC</td>\n",
       "      <td>citeseq</td>\n",
       "      <td>day232606</td>\n",
       "      <td>SeuratProject</td>\n",
       "    </tr>\n",
       "    <tr>\n",
       "      <th>b646f9b319d5</th>\n",
       "      <td>SeuratProject</td>\n",
       "      <td>1120.0</td>\n",
       "      <td>110</td>\n",
       "      <td>b646f9b319d5</td>\n",
       "      <td>2</td>\n",
       "      <td>32606</td>\n",
       "      <td>NeuP</td>\n",
       "      <td>citeseq</td>\n",
       "      <td>day232606</td>\n",
       "      <td>SeuratProject</td>\n",
       "    </tr>\n",
       "    <tr>\n",
       "      <th>14872957f6f5</th>\n",
       "      <td>SeuratProject</td>\n",
       "      <td>749.0</td>\n",
       "      <td>104</td>\n",
       "      <td>14872957f6f5</td>\n",
       "      <td>2</td>\n",
       "      <td>32606</td>\n",
       "      <td>HSC</td>\n",
       "      <td>citeseq</td>\n",
       "      <td>day232606</td>\n",
       "      <td>SeuratProject</td>\n",
       "    </tr>\n",
       "    <tr>\n",
       "      <th>9b761504056d</th>\n",
       "      <td>SeuratProject</td>\n",
       "      <td>1022.0</td>\n",
       "      <td>107</td>\n",
       "      <td>9b761504056d</td>\n",
       "      <td>2</td>\n",
       "      <td>32606</td>\n",
       "      <td>HSC</td>\n",
       "      <td>citeseq</td>\n",
       "      <td>day232606</td>\n",
       "      <td>SeuratProject</td>\n",
       "    </tr>\n",
       "  </tbody>\n",
       "</table>\n",
       "</div>"
      ],
      "text/plain": [
       "                 orig.ident  nCount_RNA  nFeature_RNA       cell_id  day  \\\n",
       "45006fe3e4c8  SeuratProject       613.0           103  45006fe3e4c8    2   \n",
       "d02759a80ba2  SeuratProject      1191.0           114  d02759a80ba2    2   \n",
       "b646f9b319d5  SeuratProject      1120.0           110  b646f9b319d5    2   \n",
       "14872957f6f5  SeuratProject       749.0           104  14872957f6f5    2   \n",
       "9b761504056d  SeuratProject      1022.0           107  9b761504056d    2   \n",
       "\n",
       "              donor cell_type technology   daydonor          ident  \n",
       "45006fe3e4c8  32606       HSC    citeseq  day232606  SeuratProject  \n",
       "d02759a80ba2  32606       HSC    citeseq  day232606  SeuratProject  \n",
       "b646f9b319d5  32606      NeuP    citeseq  day232606  SeuratProject  \n",
       "14872957f6f5  32606       HSC    citeseq  day232606  SeuratProject  \n",
       "9b761504056d  32606       HSC    citeseq  day232606  SeuratProject  "
      ]
     },
     "execution_count": 4,
     "metadata": {},
     "output_type": "execute_result"
    }
   ],
   "source": [
    "adata_protein_test.obs.head()\n",
    "#adata_gene_test.obs.head()"
   ]
  },
  {
   "cell_type": "code",
   "execution_count": 5,
   "id": "52e51fc2",
   "metadata": {},
   "outputs": [
    {
     "name": "stdout",
     "output_type": "stream",
     "text": [
      "Using CPU\n",
      "\n",
      "Normalizing Gene Training Data by Batch\n"
     ]
    },
    {
     "name": "stderr",
     "output_type": "stream",
     "text": [
      "100%|██████████| 9/9 [00:01<00:00,  6.65it/s]\n"
     ]
    },
    {
     "name": "stdout",
     "output_type": "stream",
     "text": [
      "\n",
      "Normalizing Protein Training Data by Batch\n"
     ]
    },
    {
     "name": "stderr",
     "output_type": "stream",
     "text": [
      "100%|██████████| 9/9 [00:00<00:00, 18.16it/s]\n"
     ]
    },
    {
     "name": "stdout",
     "output_type": "stream",
     "text": [
      "\n",
      "Normalizing Gene Testing Data by Batch\n"
     ]
    },
    {
     "name": "stderr",
     "output_type": "stream",
     "text": [
      "100%|██████████| 9/9 [00:01<00:00,  6.44it/s]\n"
     ]
    }
   ],
   "source": [
    "sciPENN = sciPENN_API(gene_trainsets = [adata_gene_train], protein_trainsets = [adata_protein_train], \n",
    "                      gene_test = adata_gene_test, train_batchkeys = ['daydonor'], test_batchkey = 'daydonor',  use_gpu=False,\n",
    "                     select_hvg=False, cell_normalize=False, log_normalize=False, min_cells=0, min_genes=0)"
   ]
  },
  {
   "cell_type": "code",
   "execution_count": 6,
   "id": "f21ea3d8",
   "metadata": {},
   "outputs": [],
   "source": [
    "sciPENN.train(quantiles = [0.1, 0.25, 0.75, 0.9], n_epochs = 10000, ES_max = 12, decay_max = 6, \n",
    "             decay_step = 0.1, lr = 10**(-3), weights_dir = \"pbmc_to_pbmc\", load = True)"
   ]
  },
  {
   "cell_type": "code",
   "execution_count": 7,
   "id": "5e88e5db",
   "metadata": {},
   "outputs": [
    {
     "data": {
      "text/plain": [
       "AnnData object with n_obs × n_vars = 35492 × 134\n",
       "    obs: 'orig.ident', 'nCount_RNA', 'nFeature_RNA', 'cell_id', 'day', 'donor', 'cell_type', 'technology', 'daydonor', 'ident', 'batch'\n",
       "    layers: 'q10', 'q25', 'q75', 'q90'"
      ]
     },
     "execution_count": 7,
     "metadata": {},
     "output_type": "execute_result"
    }
   ],
   "source": [
    "sciPENN.predict()"
   ]
  },
  {
   "cell_type": "code",
   "execution_count": 29,
   "id": "cb6c6271",
   "metadata": {},
   "outputs": [],
   "source": [
    "scipenn_embedding = sciPENN.embed()"
   ]
  },
  {
   "cell_type": "code",
   "execution_count": 85,
   "id": "4a9cce90",
   "metadata": {},
   "outputs": [],
   "source": [
    "\n",
    "#scipenn_embedding.T.write(\"/home/asmauger/biostat625final/embedding.h5ad\")\n"
   ]
  },
  {
   "cell_type": "code",
   "execution_count": 10,
   "id": "a30968d4",
   "metadata": {},
   "outputs": [
    {
     "name": "stderr",
     "output_type": "stream",
     "text": [
      "/home/adityabn/.conda/envs/scipenn_env/lib/python3.7/site-packages/scanpy/preprocessing/_simple.py:843: UserWarning: Revieved a view of an AnnData. Making a copy.\n",
      "  view_to_actual(adata)\n"
     ]
    }
   ],
   "source": [
    "imputed_test = sciPENN.predict()\n",
    "\n",
    "\n",
    "\n",
    "adata_protein_test.layers['imputed'] = imputed_test.X\n",
    "adata_protein_test.layers.update(imputed_test.layers)\n",
    "\n",
    "# scaling by batch\n",
    "batches = np.unique(adata_protein_test.obs['daydonor'].values)\n",
    "\n",
    "for i in batches:\n",
    "    indices = [x == i for x in adata_protein_test.obs['daydonor']]\n",
    "    sub_adata = adata_protein_test[indices]\n",
    "\n",
    "    sc.pp.scale(sub_adata)\n",
    "    adata_protein_test[indices] = sub_adata.X"
   ]
  },
  {
   "cell_type": "code",
   "execution_count": null,
   "id": "8e0a66fe",
   "metadata": {},
   "outputs": [],
   "source": [
    "#adata_protein_test.T.write(\"/home/asmauger/biostat625final/protein_test_final.h5ad\")"
   ]
  },
  {
   "cell_type": "code",
   "execution_count": 14,
   "id": "2f4cba83",
   "metadata": {},
   "outputs": [],
   "source": [
    "def corr2_coeff(A, B, pearson = True):\n",
    "    if pearson:\n",
    "        # Rowwise mean of input arrays & subtract from input arrays themeselves\n",
    "        A_mA = A - A.mean(1)[:, None]\n",
    "        B_mB = B - B.mean(1)[:, None]\n",
    "\n",
    "        # Sum of squares across rows\n",
    "        ssA = (A_mA**2).sum(1)\n",
    "        ssB = (B_mB**2).sum(1)\n",
    "\n",
    "        # Finally get corr coeff\n",
    "        corr_mat = np.dot(A_mA, B_mB.T) / np.sqrt(np.dot(ssA[:, None],ssB[None]))\n",
    "        \n",
    "        return corr_mat[range(corr_mat.shape[0]), range(corr_mat.shape[0])]\n",
    "    \n",
    "    else:\n",
    "        corrs = [0.] * A.shape[0]\n",
    "        \n",
    "        for i in range(A.shape[0]):\n",
    "            corrs[i] = spearmanr(A[i], B[i])[0]\n",
    "            \n",
    "        return corrs"
   ]
  },
  {
   "cell_type": "code",
   "execution_count": 15,
   "id": "5d9f5156",
   "metadata": {},
   "outputs": [],
   "source": [
    "corrs = corr2_coeff(adata_protein_test.layers[\"imputed\"].T, adata_protein_test.X.T)\n",
    "corrs = pd.DataFrame(corrs)\n",
    "corrs.index = adata_protein_test.var.index\n",
    "corrs = corrs.dropna()"
   ]
  },
  {
   "cell_type": "code",
   "execution_count": 67,
   "id": "4ff75ae4",
   "metadata": {},
   "outputs": [],
   "source": [
    "MSEs = ((adata_protein_test.X - adata_protein_test.layers[\"imputed\"])**2).mean(axis = 0)**(1/2)\n",
    "avg_exp = sc.read(\"/home/asmauger/biostat625final/prot_test.h5ad\").X.mean(axis = 0)\n",
    "avg_exp = np.squeeze(np.asarray(avg_exp))\n",
    "metrics = pd.DataFrame({\"Correlation\":corrs[0],\"RMSE\":MSEs,\"AVG\": avg_exp})"
   ]
  },
  {
   "cell_type": "code",
   "execution_count": null,
   "id": "015fc49b",
   "metadata": {},
   "outputs": [],
   "source": [
    "#metrics.to_csv(\"/home/asmauger/biostat625final/metrics.csv\")"
   ]
  },
  {
   "cell_type": "code",
   "execution_count": 79,
   "id": "243e4c43",
   "metadata": {},
   "outputs": [],
   "source": [
    "import matplotlib.pyplot as plt"
   ]
  },
  {
   "cell_type": "code",
   "execution_count": 84,
   "id": "937927eb",
   "metadata": {},
   "outputs": [
    {
     "data": {
      "text/plain": [
       "<matplotlib.collections.PathCollection at 0x2b1fa78dde48>"
      ]
     },
     "execution_count": 84,
     "metadata": {},
     "output_type": "execute_result"
    },
    {
     "data": {
      "image/png": "[encoded data removed]",
      "text/plain": [
       "<Figure size 432x288 with 1 Axes>"
      ]
     },
     "metadata": {
      "needs_background": "light"
     },
     "output_type": "display_data"
    }
   ],
   "source": [
    "plt.scatter(corrs, avg_exp,alpha=0.5)"
   ]
  }
 ],
 "metadata": {
  "kernelspec": {
   "display_name": "sciPENN_env",
   "language": "python",
   "name": "scipenn_env"
  },
  "language_info": {
   "codemirror_mode": {
    "name": "ipython",
    "version": 3
   },
   "file_extension": ".py",
   "mimetype": "text/x-python",
   "name": "python",
   "nbconvert_exporter": "python",
   "pygments_lexer": "ipython3",
   "version": "3.7.0"
  }
 },
 "nbformat": 4,
 "nbformat_minor": 5
}
